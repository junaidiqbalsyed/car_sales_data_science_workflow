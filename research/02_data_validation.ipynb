{
 "cells": [
  {
   "cell_type": "code",
   "execution_count": 1,
   "metadata": {},
   "outputs": [],
   "source": [
    "import os"
   ]
  },
  {
   "cell_type": "code",
   "execution_count": 2,
   "metadata": {},
   "outputs": [
    {
     "data": {
      "text/plain": [
       "'c:\\\\Users\\\\sandr\\\\PROJECTS_CODE\\\\car_sales_data_science_workflow\\\\research'"
      ]
     },
     "execution_count": 2,
     "metadata": {},
     "output_type": "execute_result"
    }
   ],
   "source": [
    "%pwd"
   ]
  },
  {
   "cell_type": "code",
   "execution_count": 3,
   "metadata": {},
   "outputs": [],
   "source": [
    "os.chdir(\"../\")"
   ]
  },
  {
   "cell_type": "code",
   "execution_count": 4,
   "metadata": {},
   "outputs": [
    {
     "data": {
      "text/plain": [
       "'c:\\\\Users\\\\sandr\\\\PROJECTS_CODE\\\\car_sales_data_science_workflow'"
      ]
     },
     "execution_count": 4,
     "metadata": {},
     "output_type": "execute_result"
    }
   ],
   "source": [
    "%pwd"
   ]
  },
  {
   "cell_type": "code",
   "execution_count": 11,
   "metadata": {},
   "outputs": [],
   "source": [
    "import pandas as pd"
   ]
  },
  {
   "cell_type": "code",
   "execution_count": 7,
   "metadata": {},
   "outputs": [],
   "source": [
    "df = pd.read_csv(\"artifacts/data_ingestion/all_data.csv\")"
   ]
  },
  {
   "cell_type": "code",
   "execution_count": 8,
   "metadata": {},
   "outputs": [
    {
     "data": {
      "text/html": [
       "<div>\n",
       "<style scoped>\n",
       "    .dataframe tbody tr th:only-of-type {\n",
       "        vertical-align: middle;\n",
       "    }\n",
       "\n",
       "    .dataframe tbody tr th {\n",
       "        vertical-align: top;\n",
       "    }\n",
       "\n",
       "    .dataframe thead th {\n",
       "        text-align: right;\n",
       "    }\n",
       "</style>\n",
       "<table border=\"1\" class=\"dataframe\">\n",
       "  <thead>\n",
       "    <tr style=\"text-align: right;\">\n",
       "      <th></th>\n",
       "      <th>Order</th>\n",
       "      <th>Sales_in_thousands</th>\n",
       "      <th>Vehicle_type</th>\n",
       "      <th>Order Date</th>\n",
       "      <th>dealership</th>\n",
       "      <th>color</th>\n",
       "      <th>Power_perf_factor</th>\n",
       "      <th>Fuel_efficiency</th>\n",
       "      <th>Fuel_capacity</th>\n",
       "      <th>Engine_size</th>\n",
       "      <th>Horsepower</th>\n",
       "      <th>Wheelbase</th>\n",
       "      <th>Width</th>\n",
       "      <th>Length</th>\n",
       "      <th>Price_in_lakhs</th>\n",
       "    </tr>\n",
       "  </thead>\n",
       "  <tbody>\n",
       "    <tr>\n",
       "      <th>0</th>\n",
       "      <td>4100134</td>\n",
       "      <td>4.85</td>\n",
       "      <td>car</td>\n",
       "      <td>2023-11-26</td>\n",
       "      <td>404, Boston, MA, 02215</td>\n",
       "      <td>#24cc59</td>\n",
       "      <td>156.64710</td>\n",
       "      <td>21.8</td>\n",
       "      <td>19</td>\n",
       "      <td>2.53</td>\n",
       "      <td>200</td>\n",
       "      <td>94.08</td>\n",
       "      <td>71.17</td>\n",
       "      <td>168.15</td>\n",
       "      <td>17.73L</td>\n",
       "    </tr>\n",
       "    <tr>\n",
       "      <th>1</th>\n",
       "      <td>4100136</td>\n",
       "      <td>15.65</td>\n",
       "      <td>car</td>\n",
       "      <td>2023-07-17</td>\n",
       "      <td>91, San Francisco, CA, 94016</td>\n",
       "      <td>#5c22fa</td>\n",
       "      <td>95.54393</td>\n",
       "      <td>23.5</td>\n",
       "      <td>23</td>\n",
       "      <td>3.02</td>\n",
       "      <td>265</td>\n",
       "      <td>102.77</td>\n",
       "      <td>79.34</td>\n",
       "      <td>196.93</td>\n",
       "      <td>4.69L</td>\n",
       "    </tr>\n",
       "    <tr>\n",
       "      <th>2</th>\n",
       "      <td>4100144</td>\n",
       "      <td>4.33</td>\n",
       "      <td>passenger</td>\n",
       "      <td>2023-11-21</td>\n",
       "      <td>10, Portland, OR, 97035</td>\n",
       "      <td>#87f1c7</td>\n",
       "      <td>30.94899</td>\n",
       "      <td>19.5</td>\n",
       "      <td>15</td>\n",
       "      <td>5.46</td>\n",
       "      <td>177</td>\n",
       "      <td>83.29</td>\n",
       "      <td>68.25</td>\n",
       "      <td>233.17</td>\n",
       "      <td>21.77L</td>\n",
       "    </tr>\n",
       "    <tr>\n",
       "      <th>3</th>\n",
       "      <td>4100146</td>\n",
       "      <td>8.98</td>\n",
       "      <td>car</td>\n",
       "      <td>2023-12-17</td>\n",
       "      <td>57, San Francisco, CA, 94016</td>\n",
       "      <td>#aec562</td>\n",
       "      <td>141.70133</td>\n",
       "      <td>18.2</td>\n",
       "      <td>25</td>\n",
       "      <td>1.52</td>\n",
       "      <td>218</td>\n",
       "      <td>97.74</td>\n",
       "      <td>86.04</td>\n",
       "      <td>212.64</td>\n",
       "      <td>23.29L</td>\n",
       "    </tr>\n",
       "    <tr>\n",
       "      <th>4</th>\n",
       "      <td>4100147</td>\n",
       "      <td>11.96</td>\n",
       "      <td>passenger</td>\n",
       "      <td>2023-10-28</td>\n",
       "      <td>221, San Francisco, CA, 94016</td>\n",
       "      <td>#f2c704</td>\n",
       "      <td>30.04240</td>\n",
       "      <td>21.7</td>\n",
       "      <td>15</td>\n",
       "      <td>1.54</td>\n",
       "      <td>167</td>\n",
       "      <td>98.21</td>\n",
       "      <td>63.99</td>\n",
       "      <td>262.81</td>\n",
       "      <td>18.21L</td>\n",
       "    </tr>\n",
       "  </tbody>\n",
       "</table>\n",
       "</div>"
      ],
      "text/plain": [
       "     Order  Sales_in_thousands Vehicle_type  Order Date  \\\n",
       "0  4100134                4.85          car  2023-11-26   \n",
       "1  4100136               15.65          car  2023-07-17   \n",
       "2  4100144                4.33    passenger  2023-11-21   \n",
       "3  4100146                8.98          car  2023-12-17   \n",
       "4  4100147               11.96    passenger  2023-10-28   \n",
       "\n",
       "                      dealership    color  Power_perf_factor  Fuel_efficiency  \\\n",
       "0         404, Boston, MA, 02215  #24cc59          156.64710             21.8   \n",
       "1   91, San Francisco, CA, 94016  #5c22fa           95.54393             23.5   \n",
       "2        10, Portland, OR, 97035  #87f1c7           30.94899             19.5   \n",
       "3   57, San Francisco, CA, 94016  #aec562          141.70133             18.2   \n",
       "4  221, San Francisco, CA, 94016  #f2c704           30.04240             21.7   \n",
       "\n",
       "   Fuel_capacity  Engine_size  Horsepower  Wheelbase  Width  Length  \\\n",
       "0             19         2.53         200      94.08  71.17  168.15   \n",
       "1             23         3.02         265     102.77  79.34  196.93   \n",
       "2             15         5.46         177      83.29  68.25  233.17   \n",
       "3             25         1.52         218      97.74  86.04  212.64   \n",
       "4             15         1.54         167      98.21  63.99  262.81   \n",
       "\n",
       "  Price_in_lakhs  \n",
       "0         17.73L  \n",
       "1          4.69L  \n",
       "2         21.77L  \n",
       "3         23.29L  \n",
       "4         18.21L  "
      ]
     },
     "execution_count": 8,
     "metadata": {},
     "output_type": "execute_result"
    }
   ],
   "source": [
    "df.head()"
   ]
  },
  {
   "cell_type": "code",
   "execution_count": 10,
   "metadata": {},
   "outputs": [
    {
     "name": "stdout",
     "output_type": "stream",
     "text": [
      "<class 'pandas.core.frame.DataFrame'>\n",
      "RangeIndex: 1000 entries, 0 to 999\n",
      "Data columns (total 15 columns):\n",
      " #   Column              Non-Null Count  Dtype  \n",
      "---  ------              --------------  -----  \n",
      " 0   Order               1000 non-null   int64  \n",
      " 1   Sales_in_thousands  1000 non-null   float64\n",
      " 2   Vehicle_type        1000 non-null   object \n",
      " 3   Order Date          1000 non-null   object \n",
      " 4   dealership          1000 non-null   object \n",
      " 5   color               1000 non-null   object \n",
      " 6   Power_perf_factor   1000 non-null   float64\n",
      " 7   Fuel_efficiency     1000 non-null   float64\n",
      " 8   Fuel_capacity       1000 non-null   int64  \n",
      " 9   Engine_size         1000 non-null   float64\n",
      " 10  Horsepower          1000 non-null   int64  \n",
      " 11  Wheelbase           1000 non-null   float64\n",
      " 12  Width               1000 non-null   float64\n",
      " 13  Length              1000 non-null   float64\n",
      " 14  Price_in_lakhs      1000 non-null   object \n",
      "dtypes: float64(7), int64(3), object(5)\n",
      "memory usage: 117.3+ KB\n"
     ]
    }
   ],
   "source": [
    "df.info()"
   ]
  },
  {
   "cell_type": "code",
   "execution_count": 11,
   "metadata": {},
   "outputs": [
    {
     "data": {
      "text/plain": [
       "Order                 0\n",
       "Sales_in_thousands    0\n",
       "Vehicle_type          0\n",
       "Order Date            0\n",
       "dealership            0\n",
       "color                 0\n",
       "Power_perf_factor     0\n",
       "Fuel_efficiency       0\n",
       "Fuel_capacity         0\n",
       "Engine_size           0\n",
       "Horsepower            0\n",
       "Wheelbase             0\n",
       "Width                 0\n",
       "Length                0\n",
       "Price_in_lakhs        0\n",
       "dtype: int64"
      ]
     },
     "execution_count": 11,
     "metadata": {},
     "output_type": "execute_result"
    }
   ],
   "source": [
    "df.isnull().sum()"
   ]
  },
  {
   "cell_type": "code",
   "execution_count": 5,
   "metadata": {},
   "outputs": [],
   "source": [
    "from dataclasses import dataclass\n",
    "from pathlib import Path\n",
    "\n",
    "\n",
    "@dataclass(frozen=True)\n",
    "class DataValidationConfig:\n",
    "    root_dir: Path\n",
    "    STATUS_FILE: str\n",
    "    unzip_data_dir: Path\n",
    "    all_schema: dict"
   ]
  },
  {
   "cell_type": "code",
   "execution_count": 6,
   "metadata": {},
   "outputs": [],
   "source": [
    "from mlProject.constants import *\n",
    "from mlProject.utils.common import read_yaml, create_directories"
   ]
  },
  {
   "cell_type": "code",
   "execution_count": 7,
   "metadata": {},
   "outputs": [],
   "source": [
    "class ConfigurationManager:\n",
    "    def __init__(\n",
    "        self,\n",
    "        config_filepath = CONFIG_FILE_PATH,\n",
    "        params_filepath = PARAMS_FILE_PATH,\n",
    "        schema_filepath = SCHEMA_FILE_PATH):\n",
    "\n",
    "        self.config = read_yaml(config_filepath)\n",
    "        self.params = read_yaml(params_filepath)\n",
    "        self.schema = read_yaml(schema_filepath)\n",
    "\n",
    "        create_directories([self.config.artifacts_root])\n",
    "\n",
    "    def get_data_validation_config(self) -> DataValidationConfig:\n",
    "        config = self.config.data_validation\n",
    "        schema = self.schema.COLUMNS\n",
    "\n",
    "        create_directories([config.root_dir])\n",
    "\n",
    "        data_validation_config = DataValidationConfig(\n",
    "            root_dir=config.root_dir,\n",
    "            STATUS_FILE=config.STATUS_FILE,\n",
    "            all_schema=schema,\n",
    "            unzip_data_dir=config.unzip_data_dir \n",
    "        )\n",
    "\n",
    "        return data_validation_config"
   ]
  },
  {
   "cell_type": "code",
   "execution_count": 8,
   "metadata": {},
   "outputs": [],
   "source": [
    "import os\n",
    "from mlProject import logger"
   ]
  },
  {
   "cell_type": "code",
   "execution_count": 9,
   "metadata": {},
   "outputs": [],
   "source": [
    "class DataValiadtion:\n",
    "    def __init__(self, config: DataValidationConfig):\n",
    "        self.config = config\n",
    "\n",
    "\n",
    "    def validate_all_columns(self)-> bool:\n",
    "        try:\n",
    "            validation_status = None\n",
    "\n",
    "            data = pd.read_csv(self.config.unzip_data_dir)\n",
    "            all_cols = list(data.columns)\n",
    "\n",
    "            all_schema = self.config.all_schema.keys()\n",
    "\n",
    "            \n",
    "            for col in all_cols:\n",
    "                if col not in all_schema:\n",
    "                    validation_status = False\n",
    "                    with open(self.config.STATUS_FILE, 'w') as f:\n",
    "                        f.write(f\"Validation status: {validation_status}\")\n",
    "                else:\n",
    "                    validation_status = True\n",
    "                    with open(self.config.STATUS_FILE, 'w') as f:\n",
    "                        f.write(f\"Validation status: {validation_status}\")\n",
    "\n",
    "            return validation_status\n",
    "        \n",
    "        except Exception as e:\n",
    "            raise e"
   ]
  },
  {
   "cell_type": "code",
   "execution_count": 13,
   "metadata": {},
   "outputs": [
    {
     "name": "stdout",
     "output_type": "stream",
     "text": [
      "[2023-08-01 20:22:54,619: INFO: common: yaml file: config\\config.yaml loaded successfully]\n",
      "[2023-08-01 20:22:54,621: INFO: common: yaml file: params.yaml loaded successfully]\n",
      "[2023-08-01 20:22:54,631: INFO: common: yaml file: schema.yaml loaded successfully]\n",
      "[2023-08-01 20:22:54,631: INFO: common: created directory at: artifacts]\n",
      "[2023-08-01 20:22:54,635: INFO: common: created directory at: artifacts/data_validation]\n"
     ]
    }
   ],
   "source": [
    "try:\n",
    "    config = ConfigurationManager()\n",
    "    data_validation_config = config.get_data_validation_config()\n",
    "    data_validation = DataValiadtion(config=data_validation_config)\n",
    "    data_validation.validate_all_columns()\n",
    "except Exception as e:\n",
    "    raise e"
   ]
  },
  {
   "cell_type": "code",
   "execution_count": null,
   "metadata": {},
   "outputs": [],
   "source": []
  }
 ],
 "metadata": {
  "kernelspec": {
   "display_name": "Python 3",
   "language": "python",
   "name": "python3"
  },
  "language_info": {
   "codemirror_mode": {
    "name": "ipython",
    "version": 3
   },
   "file_extension": ".py",
   "mimetype": "text/x-python",
   "name": "python",
   "nbconvert_exporter": "python",
   "pygments_lexer": "ipython3",
   "version": "3.10.6"
  },
  "orig_nbformat": 4
 },
 "nbformat": 4,
 "nbformat_minor": 2
}
